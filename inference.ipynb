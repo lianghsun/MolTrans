{
 "cells": [
  {
   "cell_type": "code",
   "execution_count": 2,
   "id": "558c2029",
   "metadata": {},
   "outputs": [
    {
     "name": "stderr",
     "output_type": "stream",
     "text": [
      "/home/owen/.local/lib/python3.8/site-packages/tqdm/auto.py:22: TqdmWarning: IProgress not found. Please update jupyter and ipywidgets. See https://ipywidgets.readthedocs.io/en/stable/user_install.html\n",
      "  from .autonotebook import tqdm as notebook_tqdm\n"
     ]
    }
   ],
   "source": [
    "import torch\n",
    "from torch.autograd import Variable\n",
    "import torch.nn.functional as F\n",
    "from torch.utils import data\n",
    "from torch import nn \n",
    "import copy\n",
    "\n",
    "from tqdm import tqdm\n",
    "import matplotlib.pyplot as plt\n",
    "import numpy as np\n",
    "import pandas as pd\n",
    "from time import time\n",
    "from sklearn.metrics import roc_auc_score, average_precision_score, f1_score, roc_curve, confusion_matrix, precision_score, recall_score, auc\n",
    "from sklearn.model_selection import KFold\n",
    "torch.manual_seed(1)    # reproducible torch:2 np:3\n",
    "np.random.seed(1)\n",
    "\n",
    "from config import BIN_config_DBPE\n",
    "from models import BIN_Interaction_Flat\n",
    "from stream import BIN_Data_Encoder\n",
    "\n",
    "use_cuda = torch.cuda.is_available()\n",
    "device = torch.device(\"cuda:0\" if use_cuda else \"cpu\")"
   ]
  },
  {
   "cell_type": "markdown",
   "id": "3d521470",
   "metadata": {},
   "source": [
    "# Select which model to use"
   ]
  },
  {
   "cell_type": "code",
   "execution_count": 3,
   "id": "cf880233",
   "metadata": {},
   "outputs": [],
   "source": [
    "import os\n",
    "\n",
    "model_dir = r\"./results/davis/20220519_131941/train/model_dir\""
   ]
  },
  {
   "cell_type": "markdown",
   "id": "a327851d",
   "metadata": {},
   "source": [
    "# Load the configurations"
   ]
  },
  {
   "cell_type": "code",
   "execution_count": 4,
   "id": "ed1cee0e",
   "metadata": {},
   "outputs": [],
   "source": [
    "config = BIN_config_DBPE()"
   ]
  },
  {
   "cell_type": "code",
   "execution_count": 5,
   "id": "3498ab65",
   "metadata": {},
   "outputs": [
    {
     "data": {
      "text/plain": [
       "{'batch_size': 16,\n",
       " 'input_dim_drug': 23532,\n",
       " 'input_dim_target': 16693,\n",
       " 'train_epoch': 50,\n",
       " 'max_drug_seq': 50,\n",
       " 'max_protein_seq': 545,\n",
       " 'emb_size': 384,\n",
       " 'dropout_rate': 0.1,\n",
       " 'scale_down_ratio': 0.25,\n",
       " 'growth_rate': 20,\n",
       " 'transition_rate': 0.5,\n",
       " 'num_dense_blocks': 4,\n",
       " 'kernal_dense_size': 3,\n",
       " 'intermediate_size': 1536,\n",
       " 'num_attention_heads': 12,\n",
       " 'attention_probs_dropout_prob': 0.1,\n",
       " 'hidden_dropout_prob': 0.1,\n",
       " 'flat_dim': 78192}"
      ]
     },
     "execution_count": 5,
     "metadata": {},
     "output_type": "execute_result"
    }
   ],
   "source": [
    "config"
   ]
  },
  {
   "cell_type": "code",
   "execution_count": 6,
   "id": "29a9a451",
   "metadata": {},
   "outputs": [],
   "source": [
    "model = BIN_Interaction_Flat(**config)\n",
    "\n",
    "model = model.cuda()"
   ]
  },
  {
   "cell_type": "markdown",
   "id": "deec7520",
   "metadata": {},
   "source": [
    "# Load the model"
   ]
  },
  {
   "cell_type": "code",
   "execution_count": 7,
   "id": "a7feb591",
   "metadata": {},
   "outputs": [
    {
     "data": {
      "text/plain": [
       "<All keys matched successfully>"
      ]
     },
     "execution_count": 7,
     "metadata": {},
     "output_type": "execute_result"
    }
   ],
   "source": [
    "# original saved file with DataParallel\n",
    "state_dict = torch.load(os.path.join(model_dir, \"max-model.ckpt\"))\n",
    "# create new OrderedDict that does not contain `module.`\n",
    "from collections import OrderedDict\n",
    "new_state_dict = OrderedDict()\n",
    "for k, v in state_dict.items():\n",
    "    name = k[7:] # remove `module.`\n",
    "    new_state_dict[name] = v\n",
    "# load params\n",
    "model.load_state_dict(new_state_dict)"
   ]
  },
  {
   "cell_type": "code",
   "execution_count": 8,
   "id": "21101b9b",
   "metadata": {},
   "outputs": [
    {
     "data": {
      "text/plain": [
       "BIN_Interaction_Flat(\n",
       "  (demb): Embeddings(\n",
       "    (word_embeddings): Embedding(23532, 384)\n",
       "    (position_embeddings): Embedding(50, 384)\n",
       "    (LayerNorm): LayerNorm()\n",
       "    (dropout): Dropout(p=0.1, inplace=False)\n",
       "  )\n",
       "  (pemb): Embeddings(\n",
       "    (word_embeddings): Embedding(16693, 384)\n",
       "    (position_embeddings): Embedding(545, 384)\n",
       "    (LayerNorm): LayerNorm()\n",
       "    (dropout): Dropout(p=0.1, inplace=False)\n",
       "  )\n",
       "  (d_encoder): Encoder_MultipleLayers(\n",
       "    (layer): ModuleList(\n",
       "      (0): Encoder(\n",
       "        (attention): Attention(\n",
       "          (self): SelfAttention(\n",
       "            (query): Linear(in_features=384, out_features=384, bias=True)\n",
       "            (key): Linear(in_features=384, out_features=384, bias=True)\n",
       "            (value): Linear(in_features=384, out_features=384, bias=True)\n",
       "            (dropout): Dropout(p=0.1, inplace=False)\n",
       "          )\n",
       "          (output): SelfOutput(\n",
       "            (dense): Linear(in_features=384, out_features=384, bias=True)\n",
       "            (LayerNorm): LayerNorm()\n",
       "            (dropout): Dropout(p=0.1, inplace=False)\n",
       "          )\n",
       "        )\n",
       "        (intermediate): Intermediate(\n",
       "          (dense): Linear(in_features=384, out_features=1536, bias=True)\n",
       "        )\n",
       "        (output): Output(\n",
       "          (dense): Linear(in_features=1536, out_features=384, bias=True)\n",
       "          (LayerNorm): LayerNorm()\n",
       "          (dropout): Dropout(p=0.1, inplace=False)\n",
       "        )\n",
       "      )\n",
       "      (1): Encoder(\n",
       "        (attention): Attention(\n",
       "          (self): SelfAttention(\n",
       "            (query): Linear(in_features=384, out_features=384, bias=True)\n",
       "            (key): Linear(in_features=384, out_features=384, bias=True)\n",
       "            (value): Linear(in_features=384, out_features=384, bias=True)\n",
       "            (dropout): Dropout(p=0.1, inplace=False)\n",
       "          )\n",
       "          (output): SelfOutput(\n",
       "            (dense): Linear(in_features=384, out_features=384, bias=True)\n",
       "            (LayerNorm): LayerNorm()\n",
       "            (dropout): Dropout(p=0.1, inplace=False)\n",
       "          )\n",
       "        )\n",
       "        (intermediate): Intermediate(\n",
       "          (dense): Linear(in_features=384, out_features=1536, bias=True)\n",
       "        )\n",
       "        (output): Output(\n",
       "          (dense): Linear(in_features=1536, out_features=384, bias=True)\n",
       "          (LayerNorm): LayerNorm()\n",
       "          (dropout): Dropout(p=0.1, inplace=False)\n",
       "        )\n",
       "      )\n",
       "    )\n",
       "  )\n",
       "  (p_encoder): Encoder_MultipleLayers(\n",
       "    (layer): ModuleList(\n",
       "      (0): Encoder(\n",
       "        (attention): Attention(\n",
       "          (self): SelfAttention(\n",
       "            (query): Linear(in_features=384, out_features=384, bias=True)\n",
       "            (key): Linear(in_features=384, out_features=384, bias=True)\n",
       "            (value): Linear(in_features=384, out_features=384, bias=True)\n",
       "            (dropout): Dropout(p=0.1, inplace=False)\n",
       "          )\n",
       "          (output): SelfOutput(\n",
       "            (dense): Linear(in_features=384, out_features=384, bias=True)\n",
       "            (LayerNorm): LayerNorm()\n",
       "            (dropout): Dropout(p=0.1, inplace=False)\n",
       "          )\n",
       "        )\n",
       "        (intermediate): Intermediate(\n",
       "          (dense): Linear(in_features=384, out_features=1536, bias=True)\n",
       "        )\n",
       "        (output): Output(\n",
       "          (dense): Linear(in_features=1536, out_features=384, bias=True)\n",
       "          (LayerNorm): LayerNorm()\n",
       "          (dropout): Dropout(p=0.1, inplace=False)\n",
       "        )\n",
       "      )\n",
       "      (1): Encoder(\n",
       "        (attention): Attention(\n",
       "          (self): SelfAttention(\n",
       "            (query): Linear(in_features=384, out_features=384, bias=True)\n",
       "            (key): Linear(in_features=384, out_features=384, bias=True)\n",
       "            (value): Linear(in_features=384, out_features=384, bias=True)\n",
       "            (dropout): Dropout(p=0.1, inplace=False)\n",
       "          )\n",
       "          (output): SelfOutput(\n",
       "            (dense): Linear(in_features=384, out_features=384, bias=True)\n",
       "            (LayerNorm): LayerNorm()\n",
       "            (dropout): Dropout(p=0.1, inplace=False)\n",
       "          )\n",
       "        )\n",
       "        (intermediate): Intermediate(\n",
       "          (dense): Linear(in_features=384, out_features=1536, bias=True)\n",
       "        )\n",
       "        (output): Output(\n",
       "          (dense): Linear(in_features=1536, out_features=384, bias=True)\n",
       "          (LayerNorm): LayerNorm()\n",
       "          (dropout): Dropout(p=0.1, inplace=False)\n",
       "        )\n",
       "      )\n",
       "    )\n",
       "  )\n",
       "  (icnn): Conv2d(1, 3, kernel_size=(3, 3), stride=(1, 1))\n",
       "  (decoder): Sequential(\n",
       "    (0): Linear(in_features=78192, out_features=512, bias=True)\n",
       "    (1): ReLU(inplace=True)\n",
       "    (2): BatchNorm1d(512, eps=1e-05, momentum=0.1, affine=True, track_running_stats=True)\n",
       "    (3): Linear(in_features=512, out_features=64, bias=True)\n",
       "    (4): ReLU(inplace=True)\n",
       "    (5): BatchNorm1d(64, eps=1e-05, momentum=0.1, affine=True, track_running_stats=True)\n",
       "    (6): Linear(in_features=64, out_features=32, bias=True)\n",
       "    (7): ReLU(inplace=True)\n",
       "    (8): Linear(in_features=32, out_features=1, bias=True)\n",
       "  )\n",
       ")"
      ]
     },
     "execution_count": 8,
     "metadata": {},
     "output_type": "execute_result"
    }
   ],
   "source": [
    "model.eval()"
   ]
  },
  {
   "cell_type": "markdown",
   "id": "ef15bf24",
   "metadata": {},
   "source": [
    "# Protein Embedding and Fasta Embedding"
   ]
  },
  {
   "cell_type": "code",
   "execution_count": 9,
   "id": "50339db8",
   "metadata": {},
   "outputs": [],
   "source": [
    "from stream import protein2emb_encoder, drug2emb_encoder"
   ]
  },
  {
   "cell_type": "code",
   "execution_count": 10,
   "id": "7d411474",
   "metadata": {},
   "outputs": [],
   "source": [
    "params = {\n",
    "    'batch_size': 4,\n",
    "      'shuffle': True,\n",
    "      'num_workers': 0,\n",
    "      'drop_last': True\n",
    "         }"
   ]
  },
  {
   "cell_type": "code",
   "execution_count": 11,
   "id": "66b9d0c8",
   "metadata": {},
   "outputs": [],
   "source": [
    "dataFolder = './dataset/DAVIS'\n",
    "df_test = pd.read_csv(dataFolder + '/test.csv')\n",
    "testing_set = BIN_Data_Encoder(df_test.index.values, df_test.Label.values, df_test)\n",
    "testing_generator = data.DataLoader(testing_set, **params)"
   ]
  },
  {
   "cell_type": "code",
   "execution_count": 12,
   "id": "58b1fbbc-b059-45c3-a25a-e656fb73f277",
   "metadata": {},
   "outputs": [],
   "source": [
    "activation = {}\n",
    "def get_activation(name):\n",
    "    def hook(model, input, output):\n",
    "        activation[name] = output.detach()\n",
    "    return hook"
   ]
  },
  {
   "cell_type": "code",
   "execution_count": 21,
   "id": "3233b04d-8fa1-41dd-8e44-95aad3cb4eea",
   "metadata": {},
   "outputs": [
    {
     "data": {
      "text/plain": [
       "<torch.utils.hooks.RemovableHandle at 0x7f55ea02e4f0>"
      ]
     },
     "execution_count": 21,
     "metadata": {},
     "output_type": "execute_result"
    }
   ],
   "source": [
    "model.icnn.register_forward_hook(get_activation('i_v'))"
   ]
  },
  {
   "cell_type": "code",
   "execution_count": 83,
   "id": "7f4121a1-ff77-44fb-942a-1c5ab14f55af",
   "metadata": {},
   "outputs": [
    {
     "data": {
      "text/plain": [
       "MyDecoder(\n",
       "  (icnn): Conv2d(1, 3, kernel_size=(3, 3), stride=(1, 1))\n",
       "  (dropout): Dropout(p=0.1, inplace=False)\n",
       "  (decoder): Sequential(\n",
       "    (0): Linear(in_features=78192, out_features=512, bias=True)\n",
       "    (1): ReLU(inplace=True)\n",
       "    (2): BatchNorm1d(512, eps=1e-05, momentum=0.1, affine=True, track_running_stats=True)\n",
       "    (3): Linear(in_features=512, out_features=64, bias=True)\n",
       "    (4): ReLU(inplace=True)\n",
       "    (5): BatchNorm1d(64, eps=1e-05, momentum=0.1, affine=True, track_running_stats=True)\n",
       "    (6): Linear(in_features=64, out_features=32, bias=True)\n",
       "    (7): ReLU(inplace=True)\n",
       "    (8): Linear(in_features=32, out_features=1, bias=True)\n",
       "  )\n",
       ")"
      ]
     },
     "execution_count": 83,
     "metadata": {},
     "output_type": "execute_result"
    }
   ],
   "source": [
    "# Note:\n",
    "# In order to check which layer makes the randomness output of model.eval(),\n",
    "# we mock the same arch. of MolTrans decoder. \n",
    "class MyDecoder(nn.Sequential):\n",
    "    def __init__(self, **config):\n",
    "        super(MyDecoder, self).__init__()\n",
    "        self.gpus = torch.cuda.device_count()\n",
    "        self.batch_size = config['batch_size']\n",
    "        self.max_d = config['max_drug_seq']\n",
    "        self.max_p = config['max_protein_seq']\n",
    "        self.dropout_rate = config['dropout_rate']\n",
    "        self.flatten_dim = config['flat_dim']\n",
    "        \n",
    "        self.icnn = nn.Conv2d(1, 3, 3, padding = 0, dtype=torch.float32)\n",
    "        self.dropout = nn.Dropout(p=self.dropout_rate) # this line is distinct to original code\n",
    "        \n",
    "        self.decoder = nn.Sequential(\n",
    "            nn.Linear(self.flatten_dim, 512),\n",
    "            nn.ReLU(True),\n",
    "\n",
    "            nn.BatchNorm1d(512),\n",
    "            nn.Linear(512, 64),\n",
    "            nn.ReLU(True),\n",
    "\n",
    "            nn.BatchNorm1d(64),\n",
    "            nn.Linear(64, 32),\n",
    "            nn.ReLU(True),\n",
    "\n",
    "            #output layer\n",
    "            nn.Linear(32, 1)\n",
    "        )\n",
    "        \n",
    "    def forward(self, i):\n",
    "        i_v_1 = i.view(int(self.batch_size/self.gpus), -1, self.max_d, self.max_p)\n",
    "        i_v_2 = torch.sum(i_v_1, dim = 1)\n",
    "        i_v_3 = torch.unsqueeze(i_v_2, 1)\n",
    "        \n",
    "        # Dropout ################\n",
    "        # i_v_4 = F.dropout(i_v_3, p = self.dropout_rate) # where the randomness occurs\n",
    "        i_v_4 = self.dropout(i_v_3) # we use nn.Dropout() instead F.dropout()\n",
    "        ##########################\n",
    "        \n",
    "        f = self.icnn(i_v_4)\n",
    "        f_1 = f.view(int(self.batch_size/self.gpus), -1)\n",
    "        score = self.decoder(f_1)\n",
    "        \n",
    "        # return i_v_1, i_v_2, i_v_3, i_v_4, f, f_1\n",
    "        return i_v_1, i_v_2, i_v_3, f, f_1, score\n",
    "    \n",
    "        \n",
    "myDecoder = MyDecoder(**config)\n",
    "myDecoder = myDecoder.cuda()\n",
    "myDecoder.eval()"
   ]
  },
  {
   "cell_type": "code",
   "execution_count": 84,
   "id": "6c764f38",
   "metadata": {},
   "outputs": [
    {
     "name": "stdout",
     "output_type": "stream",
     "text": [
      "torch.float32\n",
      "torch.float32\n",
      "tensor([[[[True, True, True,  ..., True, True, True],\n",
      "          [True, True, True,  ..., True, True, True],\n",
      "          [True, True, True,  ..., True, True, True],\n",
      "          ...,\n",
      "          [True, True, True,  ..., True, True, True],\n",
      "          [True, True, True,  ..., True, True, True],\n",
      "          [True, True, True,  ..., True, True, True]]],\n",
      "\n",
      "\n",
      "        [[[True, True, True,  ..., True, True, True],\n",
      "          [True, True, True,  ..., True, True, True],\n",
      "          [True, True, True,  ..., True, True, True],\n",
      "          ...,\n",
      "          [True, True, True,  ..., True, True, True],\n",
      "          [True, True, True,  ..., True, True, True],\n",
      "          [True, True, True,  ..., True, True, True]]]], device='cuda:0')\n",
      "tensor([[True],\n",
      "        [True]], device='cuda:0')\n"
     ]
    }
   ],
   "source": [
    "with torch.no_grad():\n",
    "    for i, (d, p, d_mask, p_mask, label) in enumerate(testing_generator):\n",
    "        model.decoder.register_forward_hook(get_activation('i_v'))\n",
    "        drug, drug_mask = d.long().cuda(), d_mask.long().cuda()\n",
    "        protien, protien_mask = p.long().cuda(), p_mask.long().cuda()\n",
    "        score = model(drug, protien, drug_mask, protien_mask)\n",
    "        \n",
    "        # output_1_i_v_1, output_1_i_v_2, output_1_i_v_3, output_1_i_v_4, output_1_f, output_1_f_1 = myDecoder(score[1].cuda())\n",
    "        output_1_i_v_1, output_1_i_v_2, output_1_i_v_3, output_1_f, output_1_f_1, score_11 = myDecoder(score[1].cuda())\n",
    "        \n",
    "        score_1 = model(drug, protien, drug_mask, protien_mask)\n",
    "        # output_2_i_v_1, output_2_i_v_2, output_2_i_v_3, output_2_i_v_4, output_2_f, output_2_f_1 = myDecoder(score_1[1].cuda())\n",
    "        output_2_i_v_1, output_2_i_v_2, output_2_i_v_3, output_2_f, output_2_f_1, score_22 = myDecoder(score_1[1].cuda())\n",
    "        \n",
    "        print(torch.eq(output_1_i_v_3, output_2_i_v_3))\n",
    "        print(torch.eq(score_11, score_22))\n",
    "\n",
    "        if i == 0: break"
   ]
  },
  {
   "cell_type": "markdown",
   "id": "ff6e38bd",
   "metadata": {},
   "source": [
    "d_v_tensor = torch.from_numpy(d_v).long().cuda().unsqueeze(0)\n",
    "input_mask_d_tensor = torch.from_numpy(input_mask_d).long().cuda().unsqueeze(0)\n",
    "p_v_tensor = torch.from_numpy(p_v).long().cuda().unsqueeze(0)\n",
    "input_mask_p_tensor = torch.from_numpy(input_mask_p).long().cuda().unsqueeze(0)\n",
    "score = model.forward(d_v_tensor, \n",
    "                      p_v_tensor, \n",
    "                      input_mask_d_tensor, \n",
    "                      input_mask_p_tensor)\n",
    "print(score.shape)\n",
    "m = torch.nn.Sigmoid()\n",
    "logits = torch.squeeze(m(score))\n",
    "logits = logits.detach().cpu().numpy()\n",
    "print(logits)"
   ]
  },
  {
   "cell_type": "code",
   "execution_count": null,
   "id": "7aa200d4-2a98-4e7e-a800-d117c4fe8a21",
   "metadata": {},
   "outputs": [],
   "source": []
  }
 ],
 "metadata": {
  "kernelspec": {
   "display_name": "MolTrans",
   "language": "python",
   "name": "moltrans"
  },
  "language_info": {
   "codemirror_mode": {
    "name": "ipython",
    "version": 3
   },
   "file_extension": ".py",
   "mimetype": "text/x-python",
   "name": "python",
   "nbconvert_exporter": "python",
   "pygments_lexer": "ipython3",
   "version": "3.8.13"
  }
 },
 "nbformat": 4,
 "nbformat_minor": 5
}
