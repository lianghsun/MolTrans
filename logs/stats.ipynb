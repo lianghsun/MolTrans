{
 "cells": [
  {
   "cell_type": "code",
   "execution_count": 2,
   "id": "7b794a9f-7f74-4dde-9210-9f997055045f",
   "metadata": {},
   "outputs": [],
   "source": [
    "import numpy as np"
   ]
  },
  {
   "cell_type": "code",
   "execution_count": 8,
   "id": "d0b92ecb-f9b3-41bb-ac6e-144f2ff470ed",
   "metadata": {
    "jupyter": {
     "source_hidden": true
    },
    "tags": []
   },
   "outputs": [],
   "source": [
    "# BIOSNAP\n",
    "test_AUROC = [\n",
    "    .8846565511230212,\n",
    "    .8865291541019914,\n",
    "    .8847444835735964,\n",
    "    .8866222908559444,\n",
    "    .8874664694168097\n",
    "]\n",
    "\n",
    "test_AUPRC = [\n",
    "    .8751431720506784,\n",
    "    .8954584914875202,\n",
    "    .8900684357741168,\n",
    "    .8921188111415506,\n",
    "    .8900255082225974\n",
    "]\n",
    "\n",
    "test_sensitivity = [\n",
    "    .8043801039346696,\n",
    "    .7917594654788419,\n",
    "    .8028953229398663,\n",
    "    .8195991091314031,\n",
    "    .793615441722346\n",
    "]\n",
    "\n",
    "test_specificity = [\n",
    "    .8222869628550619,\n",
    "    .8372177713037144,\n",
    "    .8266569555717407,\n",
    "    .8153678077203205,\n",
    "    .8386744355426075\n",
    "]\n",
    "\n",
    "test_threshold = [\n",
    "    .5412722229957581,\n",
    "    .3875752091407776,\n",
    "    .40721896290779114,\n",
    "    .44711410999298096,\n",
    "    .3282805383205414\n",
    "]"
   ]
  },
  {
   "cell_type": "code",
   "execution_count": 9,
   "id": "1150b4b7-2e08-4d1b-975a-a4bfe2194d55",
   "metadata": {
    "jupyter": {
     "source_hidden": true
    },
    "tags": []
   },
   "outputs": [
    {
     "name": "stdout",
     "output_type": "stream",
     "text": [
      "BIOSNAP\n",
      "ROC-AUC: 0.8860037898142725\n",
      "PR-AUC: 0.8885628837352926\n",
      "Sensitivity: 0.8024498886414253\n",
      "Specificity: 0.8280407865986892\n",
      "Threshold: 0.4222922086715698\n"
     ]
    }
   ],
   "source": [
    "print(f\"BIOSNAP\")\n",
    "print(f\"ROC-AUC: {np.mean(test_AUROC)}\")\n",
    "print(f\"PR-AUC: {np.mean(test_AUPRC)}\")\n",
    "print(f\"Sensitivity: {np.mean(test_sensitivity)}\")\n",
    "print(f\"Specificity: {np.mean(test_specificity)}\")\n",
    "print(f\"Threshold: {np.mean(test_threshold)}\")"
   ]
  },
  {
   "cell_type": "code",
   "execution_count": 1,
   "id": "a6a05ae5-b24d-4354-9a56-804a585a09d6",
   "metadata": {
    "jupyter": {
     "source_hidden": true
    },
    "tags": []
   },
   "outputs": [],
   "source": [
    "# davis\n",
    "test_AUROC = [\n",
    "    .9063393489030432,\n",
    "    .9000265392781317,\n",
    "    .9096231422505308,\n",
    "    .910444680349139,\n",
    "    .9086683179995281\n",
    "]\n",
    "\n",
    "test_AUPRC = [\n",
    "    .3638890056854048,\n",
    "    .3752140723418347,\n",
    "    .3996504122957234,\n",
    "    .4223283827227404,\n",
    "    .4138725586123146\n",
    "]\n",
    "\n",
    "test_sensitivity = [\n",
    "    .7968860580325549,\n",
    "    .7468152866242038,\n",
    "    .8057324840764332,\n",
    "    .8184713375796179,\n",
    "    .8489030431705591\n",
    "]\n",
    "\n",
    "test_specificity = [\n",
    "    .88,\n",
    "    .89,\n",
    "    .8766666666666667,\n",
    "    .8633333333333333,\n",
    "    .84\n",
    "]\n",
    "\n",
    "test_threshold = [\n",
    "    .4612732231616974,\n",
    "    .33213645219802856,\n",
    "    .5263754725456238,\n",
    "    .5218163728713989,\n",
    "    .5603020191192627\n",
    "]"
   ]
  },
  {
   "cell_type": "code",
   "execution_count": 4,
   "id": "9c64a660-bd4e-4edb-aae2-7d2c7b33ea41",
   "metadata": {
    "jupyter": {
     "source_hidden": true
    },
    "tags": []
   },
   "outputs": [
    {
     "name": "stdout",
     "output_type": "stream",
     "text": [
      "Davis\n",
      "ROC-AUC: 0.9070204057560745\n",
      "PR-AUC: 0.39499088633160356\n",
      "Sensitivity: 0.8033616418966737\n",
      "Specificity: 0.8699999999999999\n",
      "Threshold: 0.4803807079792023\n"
     ]
    }
   ],
   "source": [
    "print(f\"Davis\")\n",
    "print(f\"ROC-AUC: {np.mean(test_AUROC)}\")\n",
    "print(f\"PR-AUC: {np.mean(test_AUPRC)}\")\n",
    "print(f\"Sensitivity: {np.mean(test_sensitivity)}\")\n",
    "print(f\"Specificity: {np.mean(test_specificity)}\")\n",
    "print(f\"Threshold: {np.mean(test_threshold)}\")"
   ]
  },
  {
   "cell_type": "code",
   "execution_count": 11,
   "id": "e27ba6c0-b9eb-49e5-97ce-161ace2eed78",
   "metadata": {
    "jupyter": {
     "source_hidden": true
    },
    "tags": []
   },
   "outputs": [],
   "source": [
    "# BindingDB\n",
    "test_AUROC = [\n",
    "    .9125366187078283,\n",
    "    .915342358336585,\n",
    "    .9152756573820643,\n",
    "    .9132333066916861,\n",
    "    .914910963522015\n",
    "]\n",
    "\n",
    "test_AUPRC = [\n",
    "    .6040652710273255,\n",
    "    .6224170667493003,\n",
    "    .6200783801159537,\n",
    "    .6084639662664167,\n",
    "    .6005901548746155\n",
    "]\n",
    "\n",
    "test_sensitivity = [\n",
    "    .7979388707830529,\n",
    "    .7636747996124372,\n",
    "    .7795296397427992,\n",
    "    .7587421826829913,\n",
    "    .7797058046331367\n",
    "]\n",
    "\n",
    "test_specificity = [\n",
    "    .899736147757256,\n",
    "    .9277044854881267,\n",
    "    .9150395778364117,\n",
    "    .9271767810026386,\n",
    "    .912401055408971\n",
    "]\n",
    "\n",
    "test_threshold = [\n",
    "    .44711291790008545,\n",
    "    .37209179997444153,\n",
    "    .2557135224342346,\n",
    "    .36999398469924927,\n",
    "    .3696273863315582\n",
    "]"
   ]
  },
  {
   "cell_type": "code",
   "execution_count": 12,
   "id": "e262eff5-d10a-4a05-a0cf-0dc35642a439",
   "metadata": {
    "jupyter": {
     "source_hidden": true
    },
    "tags": []
   },
   "outputs": [
    {
     "name": "stdout",
     "output_type": "stream",
     "text": [
      "BindingDB\n",
      "ROC-AUC: 0.9142597809280357\n",
      "PR-AUC: 0.6111229678067224\n",
      "Sensitivity: 0.7759182594908834\n",
      "Specificity: 0.9164116094986807\n",
      "Threshold: 0.3629079222679138\n"
     ]
    }
   ],
   "source": [
    "print(f\"BindingDB\")\n",
    "print(f\"ROC-AUC: {np.mean(test_AUROC)}\")\n",
    "print(f\"PR-AUC: {np.mean(test_AUPRC)}\")\n",
    "print(f\"Sensitivity: {np.mean(test_sensitivity)}\")\n",
    "print(f\"Specificity: {np.mean(test_specificity)}\")\n",
    "print(f\"Threshold: {np.mean(test_threshold)}\")"
   ]
  },
  {
   "cell_type": "code",
   "execution_count": null,
   "id": "efa1bbc6-4720-4418-827e-2136167606f4",
   "metadata": {},
   "outputs": [],
   "source": []
  }
 ],
 "metadata": {
  "kernelspec": {
   "display_name": "Python 3 (ipykernel)",
   "language": "python",
   "name": "python3"
  },
  "language_info": {
   "codemirror_mode": {
    "name": "ipython",
    "version": 3
   },
   "file_extension": ".py",
   "mimetype": "text/x-python",
   "name": "python",
   "nbconvert_exporter": "python",
   "pygments_lexer": "ipython3",
   "version": "3.9.5"
  }
 },
 "nbformat": 4,
 "nbformat_minor": 5
}
